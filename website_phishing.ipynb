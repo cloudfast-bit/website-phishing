{
  "nbformat": 4,
  "nbformat_minor": 0,
  "metadata": {
    "colab": {
      "name": "website-phishing",
      "provenance": [],
      "collapsed_sections": []
    },
    "kernelspec": {
      "name": "python3",
      "display_name": "Python 3"
    }
  },
  "cells": [
    {
      "cell_type": "code",
      "metadata": {
        "id": "BAVGHe6qLIgM",
        "outputId": "743858d0-0181-44ff-b10a-a190b4a14da1",
        "colab": {
          "base_uri": "https://localhost:8080/",
          "height": 173
        }
      },
      "source": [
        "!pip install graphviz\n",
        "!apt-get install graphviz"
      ],
      "execution_count": null,
      "outputs": [
        {
          "output_type": "stream",
          "text": [
            "Requirement already satisfied: graphviz in /usr/local/lib/python3.6/dist-packages (0.10.1)\n",
            "Reading package lists... Done\n",
            "Building dependency tree       \n",
            "Reading state information... Done\n",
            "graphviz is already the newest version (2.40.1-2).\n",
            "The following package was automatically installed and is no longer required:\n",
            "  libnvidia-common-440\n",
            "Use 'apt autoremove' to remove it.\n",
            "0 upgraded, 0 newly installed, 0 to remove and 35 not upgraded.\n"
          ],
          "name": "stdout"
        }
      ]
    },
    {
      "cell_type": "code",
      "metadata": {
        "id": "nlZTAW_rlyb5",
        "outputId": "c49169f7-db1a-460c-b51f-a59ab443e32f",
        "colab": {
          "base_uri": "https://localhost:8080/",
          "height": 202
        }
      },
      "source": [
        "import pandas as pd\n",
        "\n",
        "uri = 'https://raw.githubusercontent.com/eidsonsa/website-phishing-dataset/master/Website%20Phishing.csv'\n",
        "dados = pd.read_csv(uri)\n",
        "dados.head()\n"
      ],
      "execution_count": null,
      "outputs": [
        {
          "output_type": "execute_result",
          "data": {
            "text/html": [
              "<div>\n",
              "<style scoped>\n",
              "    .dataframe tbody tr th:only-of-type {\n",
              "        vertical-align: middle;\n",
              "    }\n",
              "\n",
              "    .dataframe tbody tr th {\n",
              "        vertical-align: top;\n",
              "    }\n",
              "\n",
              "    .dataframe thead th {\n",
              "        text-align: right;\n",
              "    }\n",
              "</style>\n",
              "<table border=\"1\" class=\"dataframe\">\n",
              "  <thead>\n",
              "    <tr style=\"text-align: right;\">\n",
              "      <th></th>\n",
              "      <th>SFH</th>\n",
              "      <th>popUpWidnow</th>\n",
              "      <th>SSLfinal_State</th>\n",
              "      <th>Request_URL</th>\n",
              "      <th>URL_of_Anchor</th>\n",
              "      <th>web_traffic</th>\n",
              "      <th>URL_Length</th>\n",
              "      <th>age_of_domain</th>\n",
              "      <th>having_IP_Address</th>\n",
              "      <th>Result</th>\n",
              "    </tr>\n",
              "  </thead>\n",
              "  <tbody>\n",
              "    <tr>\n",
              "      <th>0</th>\n",
              "      <td>1</td>\n",
              "      <td>-1</td>\n",
              "      <td>1</td>\n",
              "      <td>-1</td>\n",
              "      <td>-1</td>\n",
              "      <td>1</td>\n",
              "      <td>1</td>\n",
              "      <td>1</td>\n",
              "      <td>0</td>\n",
              "      <td>0</td>\n",
              "    </tr>\n",
              "    <tr>\n",
              "      <th>1</th>\n",
              "      <td>-1</td>\n",
              "      <td>-1</td>\n",
              "      <td>-1</td>\n",
              "      <td>-1</td>\n",
              "      <td>-1</td>\n",
              "      <td>0</td>\n",
              "      <td>1</td>\n",
              "      <td>1</td>\n",
              "      <td>1</td>\n",
              "      <td>1</td>\n",
              "    </tr>\n",
              "    <tr>\n",
              "      <th>2</th>\n",
              "      <td>1</td>\n",
              "      <td>-1</td>\n",
              "      <td>0</td>\n",
              "      <td>0</td>\n",
              "      <td>-1</td>\n",
              "      <td>0</td>\n",
              "      <td>-1</td>\n",
              "      <td>1</td>\n",
              "      <td>0</td>\n",
              "      <td>1</td>\n",
              "    </tr>\n",
              "    <tr>\n",
              "      <th>3</th>\n",
              "      <td>1</td>\n",
              "      <td>0</td>\n",
              "      <td>1</td>\n",
              "      <td>-1</td>\n",
              "      <td>-1</td>\n",
              "      <td>0</td>\n",
              "      <td>1</td>\n",
              "      <td>1</td>\n",
              "      <td>0</td>\n",
              "      <td>0</td>\n",
              "    </tr>\n",
              "    <tr>\n",
              "      <th>4</th>\n",
              "      <td>-1</td>\n",
              "      <td>-1</td>\n",
              "      <td>1</td>\n",
              "      <td>-1</td>\n",
              "      <td>0</td>\n",
              "      <td>0</td>\n",
              "      <td>-1</td>\n",
              "      <td>1</td>\n",
              "      <td>0</td>\n",
              "      <td>1</td>\n",
              "    </tr>\n",
              "  </tbody>\n",
              "</table>\n",
              "</div>"
            ],
            "text/plain": [
              "   SFH  popUpWidnow  SSLfinal_State  ...  age_of_domain  having_IP_Address  Result\n",
              "0    1           -1               1  ...              1                  0       0\n",
              "1   -1           -1              -1  ...              1                  1       1\n",
              "2    1           -1               0  ...              1                  0       1\n",
              "3    1            0               1  ...              1                  0       0\n",
              "4   -1           -1               1  ...              1                  0       1\n",
              "\n",
              "[5 rows x 10 columns]"
            ]
          },
          "metadata": {
            "tags": []
          },
          "execution_count": 2
        }
      ]
    },
    {
      "cell_type": "code",
      "metadata": {
        "id": "cbofcfRrrciY",
        "outputId": "2420097c-2f2c-4d60-91af-b27e1de2f82d",
        "colab": {
          "base_uri": "https://localhost:8080/",
          "height": 35
        }
      },
      "source": [
        "print('(Quantidade de Exemplos, Quantidade de Classes) ->', dados.shape)"
      ],
      "execution_count": null,
      "outputs": [
        {
          "output_type": "stream",
          "text": [
            "(Quantidade de Exemplos, Quantidade de Classes) -> (1353, 10)\n"
          ],
          "name": "stdout"
        }
      ]
    },
    {
      "cell_type": "code",
      "metadata": {
        "id": "Y80LZpznw-oT",
        "outputId": "b5bee4a6-881a-4a14-e676-57477d82a7c2",
        "colab": {
          "base_uri": "https://localhost:8080/",
          "height": 312
        }
      },
      "source": [
        "#O número de células não nulas é igual ao número de exemplos em todas as classes, logo, não há dados faltando.\n",
        "\n",
        "dados.info()"
      ],
      "execution_count": null,
      "outputs": [
        {
          "output_type": "stream",
          "text": [
            "<class 'pandas.core.frame.DataFrame'>\n",
            "RangeIndex: 1353 entries, 0 to 1352\n",
            "Data columns (total 10 columns):\n",
            " #   Column             Non-Null Count  Dtype\n",
            "---  ------             --------------  -----\n",
            " 0   SFH                1353 non-null   int64\n",
            " 1   popUpWidnow        1353 non-null   int64\n",
            " 2   SSLfinal_State     1353 non-null   int64\n",
            " 3   Request_URL        1353 non-null   int64\n",
            " 4   URL_of_Anchor      1353 non-null   int64\n",
            " 5   web_traffic        1353 non-null   int64\n",
            " 6   URL_Length         1353 non-null   int64\n",
            " 7   age_of_domain      1353 non-null   int64\n",
            " 8   having_IP_Address  1353 non-null   int64\n",
            " 9   Result             1353 non-null   int64\n",
            "dtypes: int64(10)\n",
            "memory usage: 105.8 KB\n"
          ],
          "name": "stdout"
        }
      ]
    },
    {
      "cell_type": "code",
      "metadata": {
        "id": "jueT_x-n5IFo",
        "outputId": "75eb1c97-8464-44c0-ecd6-9e07102d32a5",
        "colab": {
          "base_uri": "https://localhost:8080/",
          "height": 294
        }
      },
      "source": [
        "dados.describe()"
      ],
      "execution_count": null,
      "outputs": [
        {
          "output_type": "execute_result",
          "data": {
            "text/html": [
              "<div>\n",
              "<style scoped>\n",
              "    .dataframe tbody tr th:only-of-type {\n",
              "        vertical-align: middle;\n",
              "    }\n",
              "\n",
              "    .dataframe tbody tr th {\n",
              "        vertical-align: top;\n",
              "    }\n",
              "\n",
              "    .dataframe thead th {\n",
              "        text-align: right;\n",
              "    }\n",
              "</style>\n",
              "<table border=\"1\" class=\"dataframe\">\n",
              "  <thead>\n",
              "    <tr style=\"text-align: right;\">\n",
              "      <th></th>\n",
              "      <th>SFH</th>\n",
              "      <th>popUpWidnow</th>\n",
              "      <th>SSLfinal_State</th>\n",
              "      <th>Request_URL</th>\n",
              "      <th>URL_of_Anchor</th>\n",
              "      <th>web_traffic</th>\n",
              "      <th>URL_Length</th>\n",
              "      <th>age_of_domain</th>\n",
              "      <th>having_IP_Address</th>\n",
              "      <th>Result</th>\n",
              "    </tr>\n",
              "  </thead>\n",
              "  <tbody>\n",
              "    <tr>\n",
              "      <th>count</th>\n",
              "      <td>1353.000000</td>\n",
              "      <td>1353.000000</td>\n",
              "      <td>1353.000000</td>\n",
              "      <td>1353.000000</td>\n",
              "      <td>1353.000000</td>\n",
              "      <td>1353.000000</td>\n",
              "      <td>1353.000000</td>\n",
              "      <td>1353.000000</td>\n",
              "      <td>1353.000000</td>\n",
              "      <td>1353.000000</td>\n",
              "    </tr>\n",
              "    <tr>\n",
              "      <th>mean</th>\n",
              "      <td>0.237990</td>\n",
              "      <td>-0.258684</td>\n",
              "      <td>0.327421</td>\n",
              "      <td>-0.223208</td>\n",
              "      <td>-0.025129</td>\n",
              "      <td>0.000000</td>\n",
              "      <td>-0.053215</td>\n",
              "      <td>0.219512</td>\n",
              "      <td>0.114560</td>\n",
              "      <td>-0.113821</td>\n",
              "    </tr>\n",
              "    <tr>\n",
              "      <th>std</th>\n",
              "      <td>0.916389</td>\n",
              "      <td>0.679072</td>\n",
              "      <td>0.822193</td>\n",
              "      <td>0.799682</td>\n",
              "      <td>0.936262</td>\n",
              "      <td>0.806776</td>\n",
              "      <td>0.762552</td>\n",
              "      <td>0.975970</td>\n",
              "      <td>0.318608</td>\n",
              "      <td>0.954773</td>\n",
              "    </tr>\n",
              "    <tr>\n",
              "      <th>min</th>\n",
              "      <td>-1.000000</td>\n",
              "      <td>-1.000000</td>\n",
              "      <td>-1.000000</td>\n",
              "      <td>-1.000000</td>\n",
              "      <td>-1.000000</td>\n",
              "      <td>-1.000000</td>\n",
              "      <td>-1.000000</td>\n",
              "      <td>-1.000000</td>\n",
              "      <td>0.000000</td>\n",
              "      <td>-1.000000</td>\n",
              "    </tr>\n",
              "    <tr>\n",
              "      <th>25%</th>\n",
              "      <td>-1.000000</td>\n",
              "      <td>-1.000000</td>\n",
              "      <td>0.000000</td>\n",
              "      <td>-1.000000</td>\n",
              "      <td>-1.000000</td>\n",
              "      <td>-1.000000</td>\n",
              "      <td>-1.000000</td>\n",
              "      <td>-1.000000</td>\n",
              "      <td>0.000000</td>\n",
              "      <td>-1.000000</td>\n",
              "    </tr>\n",
              "    <tr>\n",
              "      <th>50%</th>\n",
              "      <td>1.000000</td>\n",
              "      <td>0.000000</td>\n",
              "      <td>1.000000</td>\n",
              "      <td>0.000000</td>\n",
              "      <td>0.000000</td>\n",
              "      <td>0.000000</td>\n",
              "      <td>0.000000</td>\n",
              "      <td>1.000000</td>\n",
              "      <td>0.000000</td>\n",
              "      <td>-1.000000</td>\n",
              "    </tr>\n",
              "    <tr>\n",
              "      <th>75%</th>\n",
              "      <td>1.000000</td>\n",
              "      <td>0.000000</td>\n",
              "      <td>1.000000</td>\n",
              "      <td>0.000000</td>\n",
              "      <td>1.000000</td>\n",
              "      <td>1.000000</td>\n",
              "      <td>1.000000</td>\n",
              "      <td>1.000000</td>\n",
              "      <td>0.000000</td>\n",
              "      <td>1.000000</td>\n",
              "    </tr>\n",
              "    <tr>\n",
              "      <th>max</th>\n",
              "      <td>1.000000</td>\n",
              "      <td>1.000000</td>\n",
              "      <td>1.000000</td>\n",
              "      <td>1.000000</td>\n",
              "      <td>1.000000</td>\n",
              "      <td>1.000000</td>\n",
              "      <td>1.000000</td>\n",
              "      <td>1.000000</td>\n",
              "      <td>1.000000</td>\n",
              "      <td>1.000000</td>\n",
              "    </tr>\n",
              "  </tbody>\n",
              "</table>\n",
              "</div>"
            ],
            "text/plain": [
              "               SFH  popUpWidnow  ...  having_IP_Address       Result\n",
              "count  1353.000000  1353.000000  ...        1353.000000  1353.000000\n",
              "mean      0.237990    -0.258684  ...           0.114560    -0.113821\n",
              "std       0.916389     0.679072  ...           0.318608     0.954773\n",
              "min      -1.000000    -1.000000  ...           0.000000    -1.000000\n",
              "25%      -1.000000    -1.000000  ...           0.000000    -1.000000\n",
              "50%       1.000000     0.000000  ...           0.000000    -1.000000\n",
              "75%       1.000000     0.000000  ...           0.000000     1.000000\n",
              "max       1.000000     1.000000  ...           1.000000     1.000000\n",
              "\n",
              "[8 rows x 10 columns]"
            ]
          },
          "metadata": {
            "tags": []
          },
          "execution_count": 5
        }
      ]
    },
    {
      "cell_type": "code",
      "metadata": {
        "id": "D8IGh_PlByjd",
        "outputId": "a27322d8-ae09-4b2c-eca5-7044bf5d2312",
        "colab": {
          "base_uri": "https://localhost:8080/",
          "height": 35
        }
      },
      "source": [
        "from sklearn.model_selection import train_test_split\n",
        "\n",
        "x = dados[['SFH','popUpWidnow', 'SSLfinal_State', 'Request_URL', 'URL_of_Anchor', 'web_traffic', 'URL_Length', 'age_of_domain', 'having_IP_Address']]\n",
        "y = dados['Result']\n",
        "\n",
        "treino_x, teste_x, treino_y, teste_y = train_test_split(x, y, random_state = 20, test_size = 0.25)\n",
        "\n",
        "print(\"Treinaremos com %d elementos e testaremos com %d elementos\" % (len(treino_x), len(teste_x)))"
      ],
      "execution_count": null,
      "outputs": [
        {
          "output_type": "stream",
          "text": [
            "Treinaremos com 1014 elementos e testaremos com 339 elementos\n"
          ],
          "name": "stdout"
        }
      ]
    },
    {
      "cell_type": "markdown",
      "metadata": {
        "id": "_tzr8IPFCliy"
      },
      "source": [
        "Método 1: GaussianNB"
      ]
    },
    {
      "cell_type": "code",
      "metadata": {
        "id": "koUvlPKHClSY",
        "outputId": "d1fb03d0-6dd1-4579-a4ea-1675e1d876fd",
        "colab": {
          "base_uri": "https://localhost:8080/",
          "height": 87
        }
      },
      "source": [
        "from sklearn.naive_bayes import GaussianNB\n",
        "from sklearn.metrics import accuracy_score\n",
        "from sklearn.metrics import recall_score\n",
        "from sklearn.metrics import precision_score\n",
        "from sklearn.metrics import f1_score\n",
        "\n",
        "modeloG = GaussianNB()\n",
        "modeloG.fit(treino_x, treino_y)\n",
        "previsoesG = modeloG.predict(teste_x)\n",
        "\n",
        "acuraciaG = accuracy_score(teste_y, previsoesG)\n",
        "print('A acurácia do GaussianNB é de %.2f%%' % (acuraciaG * 100))\n",
        "\n",
        "precisionG = precision_score(teste_y, previsoesG, average='macro')\n",
        "print('A precisão do GaussianNB é de %.2f%%' % (precisionG * 100))\n",
        "\n",
        "recallG = recall_score(teste_y, previsoesG, average='macro')\n",
        "print('O recall do GaussianNB é de %.2f%%' % (recallG * 100))\n",
        "\n",
        "f1ScoreG = f1_score(teste_y, previsoesG, average='macro')\n",
        "print('O f1_score do GaussianNB é de %.2f%%' % (f1ScoreG * 100))"
      ],
      "execution_count": null,
      "outputs": [
        {
          "output_type": "stream",
          "text": [
            "A acurácia do GaussianNB é de 81.12%\n",
            "A precisão do GaussianNB é de 67.17%\n",
            "O recall do GaussianNB é de 63.92%\n",
            "O f1_score do GaussianNB é de 64.79%\n"
          ],
          "name": "stdout"
        }
      ]
    },
    {
      "cell_type": "markdown",
      "metadata": {
        "id": "F72T9oy1I0tx"
      },
      "source": [
        "Método 2: DecisionTreeClassifier"
      ]
    },
    {
      "cell_type": "code",
      "metadata": {
        "id": "8baWcwoTI3CL",
        "outputId": "67876357-155b-48e4-ad88-2c92a9b2dde2",
        "colab": {
          "base_uri": "https://localhost:8080/",
          "height": 141
        }
      },
      "source": [
        "from sklearn.tree import DecisionTreeClassifier\n",
        "\n",
        "modeloDTC = DecisionTreeClassifier(max_depth=3)\n",
        "modeloDTC.fit(treino_x, treino_y)\n",
        "previsoesDTC = modeloDTC.predict(teste_x)\n",
        "\n",
        "acuraciaDTC = accuracy_score(teste_y, previsoesDTC)\n",
        "print('A acurácia do DecisionTreeClassifier é de %.2f%%' % (acuraciaDTC * 100))\n",
        "\n",
        "precisionDTC = precision_score(teste_y, previsoesDTC, average='macro')\n",
        "print('A precisão do DecisionTreeClassifier é de %.2f%%' % (acuraciaDTC * 100))\n",
        "\n",
        "recallDTC = recall_score(teste_y, previsoesDTC, average='macro')\n",
        "print('O recall do DecisionTreeClassifier é de %.2f%%' % (recallDTC * 100))\n",
        "\n",
        "f1ScoreDTC = f1_score(teste_y, previsoesDTC, average='macro')\n",
        "print('O f1_score do DecisionTreeClassifier é de %.2f%%' % (f1ScoreDTC * 100))"
      ],
      "execution_count": null,
      "outputs": [
        {
          "output_type": "stream",
          "text": [
            "A acurácia do DecisionTreeClassifier é de 83.19%\n",
            "A precisão do DecisionTreeClassifier é de 83.19%\n",
            "O recall do DecisionTreeClassifier é de 60.28%\n",
            "O f1_score do DecisionTreeClassifier é de 57.58%\n"
          ],
          "name": "stdout"
        },
        {
          "output_type": "stream",
          "text": [
            "/usr/local/lib/python3.6/dist-packages/sklearn/metrics/_classification.py:1272: UndefinedMetricWarning: Precision is ill-defined and being set to 0.0 in labels with no predicted samples. Use `zero_division` parameter to control this behavior.\n",
            "  _warn_prf(average, modifier, msg_start, len(result))\n"
          ],
          "name": "stderr"
        }
      ]
    },
    {
      "cell_type": "code",
      "metadata": {
        "id": "wERomli2LM-g",
        "outputId": "93f08327-a450-4303-ea14-20941acf6ce1",
        "colab": {
          "base_uri": "https://localhost:8080/",
          "height": 619
        }
      },
      "source": [
        "from sklearn.tree import export_graphviz\n",
        "import graphviz\n",
        "\n",
        "dot_data = export_graphviz(modeloDTC, out_file=None,\n",
        "                           filled = True, rounded = True,\n",
        "                           feature_names = x.columns,\n",
        "                          class_names = [\"legit\", \"suspeito\", \"phishy\"])\n",
        "grafico = graphviz.Source(dot_data)\n",
        "grafico"
      ],
      "execution_count": null,
      "outputs": [
        {
          "output_type": "execute_result",
          "data": {
            "text/plain": [
              "<graphviz.files.Source at 0x7f805720bd68>"
            ],
            "image/svg+xml": "<?xml version=\"1.0\" encoding=\"UTF-8\" standalone=\"no\"?>\n<!DOCTYPE svg PUBLIC \"-//W3C//DTD SVG 1.1//EN\"\n \"http://www.w3.org/Graphics/SVG/1.1/DTD/svg11.dtd\">\n<!-- Generated by graphviz version 2.40.1 (20161225.0304)\n -->\n<!-- Title: Tree Pages: 1 -->\n<svg width=\"1203pt\" height=\"433pt\"\n viewBox=\"0.00 0.00 1203.00 433.00\" xmlns=\"http://www.w3.org/2000/svg\" xmlns:xlink=\"http://www.w3.org/1999/xlink\">\n<g id=\"graph0\" class=\"graph\" transform=\"scale(1 1) rotate(0) translate(4 429)\">\n<title>Tree</title>\n<polygon fill=\"#ffffff\" stroke=\"transparent\" points=\"-4,4 -4,-429 1199,-429 1199,4 -4,4\"/>\n<!-- 0 -->\n<g id=\"node1\" class=\"node\">\n<title>0</title>\n<path fill=\"#fae5d6\" stroke=\"#000000\" d=\"M648.5,-425C648.5,-425 516.5,-425 516.5,-425 510.5,-425 504.5,-419 504.5,-413 504.5,-413 504.5,-354 504.5,-354 504.5,-348 510.5,-342 516.5,-342 516.5,-342 648.5,-342 648.5,-342 654.5,-342 660.5,-348 660.5,-354 660.5,-354 660.5,-413 660.5,-413 660.5,-419 654.5,-425 648.5,-425\"/>\n<text text-anchor=\"middle\" x=\"582.5\" y=\"-409.8\" font-family=\"Helvetica,sans-Serif\" font-size=\"14.00\" fill=\"#000000\">SFH &lt;= 0.5</text>\n<text text-anchor=\"middle\" x=\"582.5\" y=\"-394.8\" font-family=\"Helvetica,sans-Serif\" font-size=\"14.00\" fill=\"#000000\">gini = 0.56</text>\n<text text-anchor=\"middle\" x=\"582.5\" y=\"-379.8\" font-family=\"Helvetica,sans-Serif\" font-size=\"14.00\" fill=\"#000000\">samples = 1014</text>\n<text text-anchor=\"middle\" x=\"582.5\" y=\"-364.8\" font-family=\"Helvetica,sans-Serif\" font-size=\"14.00\" fill=\"#000000\">value = [531, 78, 405]</text>\n<text text-anchor=\"middle\" x=\"582.5\" y=\"-349.8\" font-family=\"Helvetica,sans-Serif\" font-size=\"14.00\" fill=\"#000000\">class = legit</text>\n</g>\n<!-- 1 -->\n<g id=\"node2\" class=\"node\">\n<title>1</title>\n<path fill=\"#9e67eb\" stroke=\"#000000\" d=\"M503,-306C503,-306 366,-306 366,-306 360,-306 354,-300 354,-294 354,-294 354,-235 354,-235 354,-229 360,-223 366,-223 366,-223 503,-223 503,-223 509,-223 515,-229 515,-235 515,-235 515,-294 515,-294 515,-300 509,-306 503,-306\"/>\n<text text-anchor=\"middle\" x=\"434.5\" y=\"-290.8\" font-family=\"Helvetica,sans-Serif\" font-size=\"14.00\" fill=\"#000000\">SSLfinal_State &lt;= &#45;0.5</text>\n<text text-anchor=\"middle\" x=\"434.5\" y=\"-275.8\" font-family=\"Helvetica,sans-Serif\" font-size=\"14.00\" fill=\"#000000\">gini = 0.35</text>\n<text text-anchor=\"middle\" x=\"434.5\" y=\"-260.8\" font-family=\"Helvetica,sans-Serif\" font-size=\"14.00\" fill=\"#000000\">samples = 434</text>\n<text text-anchor=\"middle\" x=\"434.5\" y=\"-245.8\" font-family=\"Helvetica,sans-Serif\" font-size=\"14.00\" fill=\"#000000\">value = [45, 45, 344]</text>\n<text text-anchor=\"middle\" x=\"434.5\" y=\"-230.8\" font-family=\"Helvetica,sans-Serif\" font-size=\"14.00\" fill=\"#000000\">class = phishy</text>\n</g>\n<!-- 0&#45;&gt;1 -->\n<g id=\"edge1\" class=\"edge\">\n<title>0&#45;&gt;1</title>\n<path fill=\"none\" stroke=\"#000000\" d=\"M530.7368,-341.8796C518.9072,-332.368 506.2419,-322.1843 494.1129,-312.432\"/>\n<polygon fill=\"#000000\" stroke=\"#000000\" points=\"496.2204,-309.6355 486.234,-306.0969 491.8341,-315.0908 496.2204,-309.6355\"/>\n<text text-anchor=\"middle\" x=\"488.9335\" y=\"-327.2508\" font-family=\"Helvetica,sans-Serif\" font-size=\"14.00\" fill=\"#000000\">True</text>\n</g>\n<!-- 8 -->\n<g id=\"node9\" class=\"node\">\n<title>8</title>\n<path fill=\"#ea985d\" stroke=\"#000000\" d=\"M805,-306C805,-306 668,-306 668,-306 662,-306 656,-300 656,-294 656,-294 656,-235 656,-235 656,-229 662,-223 668,-223 668,-223 805,-223 805,-223 811,-223 817,-229 817,-235 817,-235 817,-294 817,-294 817,-300 811,-306 805,-306\"/>\n<text text-anchor=\"middle\" x=\"736.5\" y=\"-290.8\" font-family=\"Helvetica,sans-Serif\" font-size=\"14.00\" fill=\"#000000\">popUpWidnow &lt;= &#45;0.5</text>\n<text text-anchor=\"middle\" x=\"736.5\" y=\"-275.8\" font-family=\"Helvetica,sans-Serif\" font-size=\"14.00\" fill=\"#000000\">gini = 0.284</text>\n<text text-anchor=\"middle\" x=\"736.5\" y=\"-260.8\" font-family=\"Helvetica,sans-Serif\" font-size=\"14.00\" fill=\"#000000\">samples = 580</text>\n<text text-anchor=\"middle\" x=\"736.5\" y=\"-245.8\" font-family=\"Helvetica,sans-Serif\" font-size=\"14.00\" fill=\"#000000\">value = [486, 33, 61]</text>\n<text text-anchor=\"middle\" x=\"736.5\" y=\"-230.8\" font-family=\"Helvetica,sans-Serif\" font-size=\"14.00\" fill=\"#000000\">class = legit</text>\n</g>\n<!-- 0&#45;&gt;8 -->\n<g id=\"edge8\" class=\"edge\">\n<title>0&#45;&gt;8</title>\n<path fill=\"none\" stroke=\"#000000\" d=\"M636.3617,-341.8796C648.6709,-332.368 661.8497,-322.1843 674.4704,-312.432\"/>\n<polygon fill=\"#000000\" stroke=\"#000000\" points=\"676.8959,-314.9809 682.6687,-306.0969 672.6157,-309.4419 676.8959,-314.9809\"/>\n<text text-anchor=\"middle\" x=\"679.4896\" y=\"-327.194\" font-family=\"Helvetica,sans-Serif\" font-size=\"14.00\" fill=\"#000000\">False</text>\n</g>\n<!-- 2 -->\n<g id=\"node3\" class=\"node\">\n<title>2</title>\n<path fill=\"#833de5\" stroke=\"#000000\" d=\"M272.5,-187C272.5,-187 140.5,-187 140.5,-187 134.5,-187 128.5,-181 128.5,-175 128.5,-175 128.5,-116 128.5,-116 128.5,-110 134.5,-104 140.5,-104 140.5,-104 272.5,-104 272.5,-104 278.5,-104 284.5,-110 284.5,-116 284.5,-116 284.5,-175 284.5,-175 284.5,-181 278.5,-187 272.5,-187\"/>\n<text text-anchor=\"middle\" x=\"206.5\" y=\"-171.8\" font-family=\"Helvetica,sans-Serif\" font-size=\"14.00\" fill=\"#000000\">popUpWidnow &lt;= 0.5</text>\n<text text-anchor=\"middle\" x=\"206.5\" y=\"-156.8\" font-family=\"Helvetica,sans-Serif\" font-size=\"14.00\" fill=\"#000000\">gini = 0.035</text>\n<text text-anchor=\"middle\" x=\"206.5\" y=\"-141.8\" font-family=\"Helvetica,sans-Serif\" font-size=\"14.00\" fill=\"#000000\">samples = 167</text>\n<text text-anchor=\"middle\" x=\"206.5\" y=\"-126.8\" font-family=\"Helvetica,sans-Serif\" font-size=\"14.00\" fill=\"#000000\">value = [2, 1, 164]</text>\n<text text-anchor=\"middle\" x=\"206.5\" y=\"-111.8\" font-family=\"Helvetica,sans-Serif\" font-size=\"14.00\" fill=\"#000000\">class = phishy</text>\n</g>\n<!-- 1&#45;&gt;2 -->\n<g id=\"edge2\" class=\"edge\">\n<title>1&#45;&gt;2</title>\n<path fill=\"none\" stroke=\"#000000\" d=\"M354.7567,-222.8796C335.0459,-212.592 313.829,-201.5182 293.7803,-191.0542\"/>\n<polygon fill=\"#000000\" stroke=\"#000000\" points=\"295.1453,-187.8186 284.6606,-186.2944 291.9063,-194.0242 295.1453,-187.8186\"/>\n</g>\n<!-- 5 -->\n<g id=\"node6\" class=\"node\">\n<title>5</title>\n<path fill=\"#b286ef\" stroke=\"#000000\" d=\"M496.5,-187C496.5,-187 372.5,-187 372.5,-187 366.5,-187 360.5,-181 360.5,-175 360.5,-175 360.5,-116 360.5,-116 360.5,-110 366.5,-104 372.5,-104 372.5,-104 496.5,-104 496.5,-104 502.5,-104 508.5,-110 508.5,-116 508.5,-116 508.5,-175 508.5,-175 508.5,-181 502.5,-187 496.5,-187\"/>\n<text text-anchor=\"middle\" x=\"434.5\" y=\"-171.8\" font-family=\"Helvetica,sans-Serif\" font-size=\"14.00\" fill=\"#000000\">web_traffic &lt;= &#45;0.5</text>\n<text text-anchor=\"middle\" x=\"434.5\" y=\"-156.8\" font-family=\"Helvetica,sans-Serif\" font-size=\"14.00\" fill=\"#000000\">gini = 0.492</text>\n<text text-anchor=\"middle\" x=\"434.5\" y=\"-141.8\" font-family=\"Helvetica,sans-Serif\" font-size=\"14.00\" fill=\"#000000\">samples = 267</text>\n<text text-anchor=\"middle\" x=\"434.5\" y=\"-126.8\" font-family=\"Helvetica,sans-Serif\" font-size=\"14.00\" fill=\"#000000\">value = [43, 44, 180]</text>\n<text text-anchor=\"middle\" x=\"434.5\" y=\"-111.8\" font-family=\"Helvetica,sans-Serif\" font-size=\"14.00\" fill=\"#000000\">class = phishy</text>\n</g>\n<!-- 1&#45;&gt;5 -->\n<g id=\"edge5\" class=\"edge\">\n<title>1&#45;&gt;5</title>\n<path fill=\"none\" stroke=\"#000000\" d=\"M434.5,-222.8796C434.5,-214.6838 434.5,-205.9891 434.5,-197.5013\"/>\n<polygon fill=\"#000000\" stroke=\"#000000\" points=\"438.0001,-197.298 434.5,-187.2981 431.0001,-197.2981 438.0001,-197.298\"/>\n</g>\n<!-- 3 -->\n<g id=\"node4\" class=\"node\">\n<title>3</title>\n<path fill=\"#833be5\" stroke=\"#000000\" d=\"M119,-68C119,-68 12,-68 12,-68 6,-68 0,-62 0,-56 0,-56 0,-12 0,-12 0,-6 6,0 12,0 12,0 119,0 119,0 125,0 131,-6 131,-12 131,-12 131,-56 131,-56 131,-62 125,-68 119,-68\"/>\n<text text-anchor=\"middle\" x=\"65.5\" y=\"-52.8\" font-family=\"Helvetica,sans-Serif\" font-size=\"14.00\" fill=\"#000000\">gini = 0.024</text>\n<text text-anchor=\"middle\" x=\"65.5\" y=\"-37.8\" font-family=\"Helvetica,sans-Serif\" font-size=\"14.00\" fill=\"#000000\">samples = 166</text>\n<text text-anchor=\"middle\" x=\"65.5\" y=\"-22.8\" font-family=\"Helvetica,sans-Serif\" font-size=\"14.00\" fill=\"#000000\">value = [1, 1, 164]</text>\n<text text-anchor=\"middle\" x=\"65.5\" y=\"-7.8\" font-family=\"Helvetica,sans-Serif\" font-size=\"14.00\" fill=\"#000000\">class = phishy</text>\n</g>\n<!-- 2&#45;&gt;3 -->\n<g id=\"edge3\" class=\"edge\">\n<title>2&#45;&gt;3</title>\n<path fill=\"none\" stroke=\"#000000\" d=\"M153.9968,-103.9815C141.7934,-94.3313 128.819,-84.0714 116.6739,-74.4673\"/>\n<polygon fill=\"#000000\" stroke=\"#000000\" points=\"118.8438,-71.7211 108.829,-68.2637 114.5018,-77.2118 118.8438,-71.7211\"/>\n</g>\n<!-- 4 -->\n<g id=\"node5\" class=\"node\">\n<title>4</title>\n<path fill=\"#e58139\" stroke=\"#000000\" d=\"M252,-68C252,-68 161,-68 161,-68 155,-68 149,-62 149,-56 149,-56 149,-12 149,-12 149,-6 155,0 161,0 161,0 252,0 252,0 258,0 264,-6 264,-12 264,-12 264,-56 264,-56 264,-62 258,-68 252,-68\"/>\n<text text-anchor=\"middle\" x=\"206.5\" y=\"-52.8\" font-family=\"Helvetica,sans-Serif\" font-size=\"14.00\" fill=\"#000000\">gini = 0.0</text>\n<text text-anchor=\"middle\" x=\"206.5\" y=\"-37.8\" font-family=\"Helvetica,sans-Serif\" font-size=\"14.00\" fill=\"#000000\">samples = 1</text>\n<text text-anchor=\"middle\" x=\"206.5\" y=\"-22.8\" font-family=\"Helvetica,sans-Serif\" font-size=\"14.00\" fill=\"#000000\">value = [1, 0, 0]</text>\n<text text-anchor=\"middle\" x=\"206.5\" y=\"-7.8\" font-family=\"Helvetica,sans-Serif\" font-size=\"14.00\" fill=\"#000000\">class = legit</text>\n</g>\n<!-- 2&#45;&gt;4 -->\n<g id=\"edge4\" class=\"edge\">\n<title>2&#45;&gt;4</title>\n<path fill=\"none\" stroke=\"#000000\" d=\"M206.5,-103.9815C206.5,-95.618 206.5,-86.7965 206.5,-78.3409\"/>\n<polygon fill=\"#000000\" stroke=\"#000000\" points=\"210.0001,-78.2636 206.5,-68.2637 203.0001,-78.2637 210.0001,-78.2636\"/>\n</g>\n<!-- 6 -->\n<g id=\"node7\" class=\"node\">\n<title>6</title>\n<path fill=\"#f4edfd\" stroke=\"#000000\" d=\"M410.5,-68C410.5,-68 294.5,-68 294.5,-68 288.5,-68 282.5,-62 282.5,-56 282.5,-56 282.5,-12 282.5,-12 282.5,-6 288.5,0 294.5,0 294.5,0 410.5,0 410.5,0 416.5,0 422.5,-6 422.5,-12 422.5,-12 422.5,-56 422.5,-56 422.5,-62 416.5,-68 410.5,-68\"/>\n<text text-anchor=\"middle\" x=\"352.5\" y=\"-52.8\" font-family=\"Helvetica,sans-Serif\" font-size=\"14.00\" fill=\"#000000\">gini = 0.643</text>\n<text text-anchor=\"middle\" x=\"352.5\" y=\"-37.8\" font-family=\"Helvetica,sans-Serif\" font-size=\"14.00\" fill=\"#000000\">samples = 71</text>\n<text text-anchor=\"middle\" x=\"352.5\" y=\"-22.8\" font-family=\"Helvetica,sans-Serif\" font-size=\"14.00\" fill=\"#000000\">value = [15, 26, 30]</text>\n<text text-anchor=\"middle\" x=\"352.5\" y=\"-7.8\" font-family=\"Helvetica,sans-Serif\" font-size=\"14.00\" fill=\"#000000\">class = phishy</text>\n</g>\n<!-- 5&#45;&gt;6 -->\n<g id=\"edge6\" class=\"edge\">\n<title>5&#45;&gt;6</title>\n<path fill=\"none\" stroke=\"#000000\" d=\"M403.9662,-103.9815C397.3424,-94.9747 390.3279,-85.4367 383.6795,-76.3965\"/>\n<polygon fill=\"#000000\" stroke=\"#000000\" points=\"386.4426,-74.2461 377.6984,-68.2637 380.8034,-78.3933 386.4426,-74.2461\"/>\n</g>\n<!-- 7 -->\n<g id=\"node8\" class=\"node\">\n<title>7</title>\n<path fill=\"#a46fec\" stroke=\"#000000\" d=\"M576.5,-68C576.5,-68 452.5,-68 452.5,-68 446.5,-68 440.5,-62 440.5,-56 440.5,-56 440.5,-12 440.5,-12 440.5,-6 446.5,0 452.5,0 452.5,0 576.5,0 576.5,0 582.5,0 588.5,-6 588.5,-12 588.5,-12 588.5,-56 588.5,-56 588.5,-62 582.5,-68 576.5,-68\"/>\n<text text-anchor=\"middle\" x=\"514.5\" y=\"-52.8\" font-family=\"Helvetica,sans-Serif\" font-size=\"14.00\" fill=\"#000000\">gini = 0.385</text>\n<text text-anchor=\"middle\" x=\"514.5\" y=\"-37.8\" font-family=\"Helvetica,sans-Serif\" font-size=\"14.00\" fill=\"#000000\">samples = 196</text>\n<text text-anchor=\"middle\" x=\"514.5\" y=\"-22.8\" font-family=\"Helvetica,sans-Serif\" font-size=\"14.00\" fill=\"#000000\">value = [28, 18, 150]</text>\n<text text-anchor=\"middle\" x=\"514.5\" y=\"-7.8\" font-family=\"Helvetica,sans-Serif\" font-size=\"14.00\" fill=\"#000000\">class = phishy</text>\n</g>\n<!-- 5&#45;&gt;7 -->\n<g id=\"edge7\" class=\"edge\">\n<title>5&#45;&gt;7</title>\n<path fill=\"none\" stroke=\"#000000\" d=\"M464.289,-103.9815C470.7514,-94.9747 477.5948,-85.4367 484.081,-76.3965\"/>\n<polygon fill=\"#000000\" stroke=\"#000000\" points=\"486.9303,-78.4291 489.9162,-68.2637 481.2428,-74.3483 486.9303,-78.4291\"/>\n</g>\n<!-- 9 -->\n<g id=\"node10\" class=\"node\">\n<title>9</title>\n<path fill=\"#f7d6bf\" stroke=\"#000000\" d=\"M803,-187C803,-187 670,-187 670,-187 664,-187 658,-181 658,-175 658,-175 658,-116 658,-116 658,-110 664,-104 670,-104 670,-104 803,-104 803,-104 809,-104 815,-110 815,-116 815,-116 815,-175 815,-175 815,-181 809,-187 803,-187\"/>\n<text text-anchor=\"middle\" x=\"736.5\" y=\"-171.8\" font-family=\"Helvetica,sans-Serif\" font-size=\"14.00\" fill=\"#000000\">SSLfinal_State &lt;= 0.5</text>\n<text text-anchor=\"middle\" x=\"736.5\" y=\"-156.8\" font-family=\"Helvetica,sans-Serif\" font-size=\"14.00\" fill=\"#000000\">gini = 0.526</text>\n<text text-anchor=\"middle\" x=\"736.5\" y=\"-141.8\" font-family=\"Helvetica,sans-Serif\" font-size=\"14.00\" fill=\"#000000\">samples = 139</text>\n<text text-anchor=\"middle\" x=\"736.5\" y=\"-126.8\" font-family=\"Helvetica,sans-Serif\" font-size=\"14.00\" fill=\"#000000\">value = [80, 7, 52]</text>\n<text text-anchor=\"middle\" x=\"736.5\" y=\"-111.8\" font-family=\"Helvetica,sans-Serif\" font-size=\"14.00\" fill=\"#000000\">class = legit</text>\n</g>\n<!-- 8&#45;&gt;9 -->\n<g id=\"edge9\" class=\"edge\">\n<title>8&#45;&gt;9</title>\n<path fill=\"none\" stroke=\"#000000\" d=\"M736.5,-222.8796C736.5,-214.6838 736.5,-205.9891 736.5,-197.5013\"/>\n<polygon fill=\"#000000\" stroke=\"#000000\" points=\"740.0001,-197.298 736.5,-187.2981 733.0001,-197.2981 740.0001,-197.298\"/>\n</g>\n<!-- 12 -->\n<g id=\"node13\" class=\"node\">\n<title>12</title>\n<path fill=\"#e78c4a\" stroke=\"#000000\" d=\"M1042,-187C1042,-187 909,-187 909,-187 903,-187 897,-181 897,-175 897,-175 897,-116 897,-116 897,-110 903,-104 909,-104 909,-104 1042,-104 1042,-104 1048,-104 1054,-110 1054,-116 1054,-116 1054,-175 1054,-175 1054,-181 1048,-187 1042,-187\"/>\n<text text-anchor=\"middle\" x=\"975.5\" y=\"-171.8\" font-family=\"Helvetica,sans-Serif\" font-size=\"14.00\" fill=\"#000000\">Request_URL &lt;= &#45;0.5</text>\n<text text-anchor=\"middle\" x=\"975.5\" y=\"-156.8\" font-family=\"Helvetica,sans-Serif\" font-size=\"14.00\" fill=\"#000000\">gini = 0.149</text>\n<text text-anchor=\"middle\" x=\"975.5\" y=\"-141.8\" font-family=\"Helvetica,sans-Serif\" font-size=\"14.00\" fill=\"#000000\">samples = 441</text>\n<text text-anchor=\"middle\" x=\"975.5\" y=\"-126.8\" font-family=\"Helvetica,sans-Serif\" font-size=\"14.00\" fill=\"#000000\">value = [406, 26, 9]</text>\n<text text-anchor=\"middle\" x=\"975.5\" y=\"-111.8\" font-family=\"Helvetica,sans-Serif\" font-size=\"14.00\" fill=\"#000000\">class = legit</text>\n</g>\n<!-- 8&#45;&gt;12 -->\n<g id=\"edge12\" class=\"edge\">\n<title>8&#45;&gt;12</title>\n<path fill=\"none\" stroke=\"#000000\" d=\"M817.0813,-224.3779C839.812,-213.0601 864.6517,-200.6922 887.7789,-189.177\"/>\n<polygon fill=\"#000000\" stroke=\"#000000\" points=\"889.4977,-192.2311 896.8894,-184.6408 886.3777,-185.9649 889.4977,-192.2311\"/>\n</g>\n<!-- 10 -->\n<g id=\"node11\" class=\"node\">\n<title>10</title>\n<path fill=\"#d7c0f7\" stroke=\"#000000\" d=\"M726,-68C726,-68 619,-68 619,-68 613,-68 607,-62 607,-56 607,-56 607,-12 607,-12 607,-6 613,0 619,0 619,0 726,0 726,0 732,0 738,-6 738,-12 738,-12 738,-56 738,-56 738,-62 732,-68 726,-68\"/>\n<text text-anchor=\"middle\" x=\"672.5\" y=\"-52.8\" font-family=\"Helvetica,sans-Serif\" font-size=\"14.00\" fill=\"#000000\">gini = 0.496</text>\n<text text-anchor=\"middle\" x=\"672.5\" y=\"-37.8\" font-family=\"Helvetica,sans-Serif\" font-size=\"14.00\" fill=\"#000000\">samples = 68</text>\n<text text-anchor=\"middle\" x=\"672.5\" y=\"-22.8\" font-family=\"Helvetica,sans-Serif\" font-size=\"14.00\" fill=\"#000000\">value = [27, 1, 40]</text>\n<text text-anchor=\"middle\" x=\"672.5\" y=\"-7.8\" font-family=\"Helvetica,sans-Serif\" font-size=\"14.00\" fill=\"#000000\">class = phishy</text>\n</g>\n<!-- 9&#45;&gt;10 -->\n<g id=\"edge10\" class=\"edge\">\n<title>9&#45;&gt;10</title>\n<path fill=\"none\" stroke=\"#000000\" d=\"M712.6688,-103.9815C707.6044,-95.1585 702.2475,-85.8258 697.1532,-76.9506\"/>\n<polygon fill=\"#000000\" stroke=\"#000000\" points=\"700.1807,-75.1942 692.167,-68.2637 694.1097,-78.6789 700.1807,-75.1942\"/>\n</g>\n<!-- 11 -->\n<g id=\"node12\" class=\"node\">\n<title>11</title>\n<path fill=\"#eda775\" stroke=\"#000000\" d=\"M875,-68C875,-68 768,-68 768,-68 762,-68 756,-62 756,-56 756,-56 756,-12 756,-12 756,-6 762,0 768,0 768,0 875,0 875,0 881,0 887,-6 887,-12 887,-12 887,-56 887,-56 887,-62 881,-68 875,-68\"/>\n<text text-anchor=\"middle\" x=\"821.5\" y=\"-52.8\" font-family=\"Helvetica,sans-Serif\" font-size=\"14.00\" fill=\"#000000\">gini = 0.407</text>\n<text text-anchor=\"middle\" x=\"821.5\" y=\"-37.8\" font-family=\"Helvetica,sans-Serif\" font-size=\"14.00\" fill=\"#000000\">samples = 71</text>\n<text text-anchor=\"middle\" x=\"821.5\" y=\"-22.8\" font-family=\"Helvetica,sans-Serif\" font-size=\"14.00\" fill=\"#000000\">value = [53, 6, 12]</text>\n<text text-anchor=\"middle\" x=\"821.5\" y=\"-7.8\" font-family=\"Helvetica,sans-Serif\" font-size=\"14.00\" fill=\"#000000\">class = legit</text>\n</g>\n<!-- 9&#45;&gt;11 -->\n<g id=\"edge11\" class=\"edge\">\n<title>9&#45;&gt;11</title>\n<path fill=\"none\" stroke=\"#000000\" d=\"M768.1509,-103.9815C775.0171,-94.9747 782.2882,-85.4367 789.1798,-76.3965\"/>\n<polygon fill=\"#000000\" stroke=\"#000000\" points=\"792.1005,-78.3383 795.3797,-68.2637 786.5336,-74.0945 792.1005,-78.3383\"/>\n</g>\n<!-- 13 -->\n<g id=\"node14\" class=\"node\">\n<title>13</title>\n<path fill=\"#ea9a61\" stroke=\"#000000\" d=\"M1033.5,-68C1033.5,-68 917.5,-68 917.5,-68 911.5,-68 905.5,-62 905.5,-56 905.5,-56 905.5,-12 905.5,-12 905.5,-6 911.5,0 917.5,0 917.5,0 1033.5,0 1033.5,0 1039.5,0 1045.5,-6 1045.5,-12 1045.5,-12 1045.5,-56 1045.5,-56 1045.5,-62 1039.5,-68 1033.5,-68\"/>\n<text text-anchor=\"middle\" x=\"975.5\" y=\"-52.8\" font-family=\"Helvetica,sans-Serif\" font-size=\"14.00\" fill=\"#000000\">gini = 0.292</text>\n<text text-anchor=\"middle\" x=\"975.5\" y=\"-37.8\" font-family=\"Helvetica,sans-Serif\" font-size=\"14.00\" fill=\"#000000\">samples = 181</text>\n<text text-anchor=\"middle\" x=\"975.5\" y=\"-22.8\" font-family=\"Helvetica,sans-Serif\" font-size=\"14.00\" fill=\"#000000\">value = [150, 26, 5]</text>\n<text text-anchor=\"middle\" x=\"975.5\" y=\"-7.8\" font-family=\"Helvetica,sans-Serif\" font-size=\"14.00\" fill=\"#000000\">class = legit</text>\n</g>\n<!-- 12&#45;&gt;13 -->\n<g id=\"edge13\" class=\"edge\">\n<title>12&#45;&gt;13</title>\n<path fill=\"none\" stroke=\"#000000\" d=\"M975.5,-103.9815C975.5,-95.618 975.5,-86.7965 975.5,-78.3409\"/>\n<polygon fill=\"#000000\" stroke=\"#000000\" points=\"979.0001,-78.2636 975.5,-68.2637 972.0001,-78.2637 979.0001,-78.2636\"/>\n</g>\n<!-- 14 -->\n<g id=\"node15\" class=\"node\">\n<title>14</title>\n<path fill=\"#e5833c\" stroke=\"#000000\" d=\"M1183,-68C1183,-68 1076,-68 1076,-68 1070,-68 1064,-62 1064,-56 1064,-56 1064,-12 1064,-12 1064,-6 1070,0 1076,0 1076,0 1183,0 1183,0 1189,0 1195,-6 1195,-12 1195,-12 1195,-56 1195,-56 1195,-62 1189,-68 1183,-68\"/>\n<text text-anchor=\"middle\" x=\"1129.5\" y=\"-52.8\" font-family=\"Helvetica,sans-Serif\" font-size=\"14.00\" fill=\"#000000\">gini = 0.03</text>\n<text text-anchor=\"middle\" x=\"1129.5\" y=\"-37.8\" font-family=\"Helvetica,sans-Serif\" font-size=\"14.00\" fill=\"#000000\">samples = 260</text>\n<text text-anchor=\"middle\" x=\"1129.5\" y=\"-22.8\" font-family=\"Helvetica,sans-Serif\" font-size=\"14.00\" fill=\"#000000\">value = [256, 0, 4]</text>\n<text text-anchor=\"middle\" x=\"1129.5\" y=\"-7.8\" font-family=\"Helvetica,sans-Serif\" font-size=\"14.00\" fill=\"#000000\">class = legit</text>\n</g>\n<!-- 12&#45;&gt;14 -->\n<g id=\"edge14\" class=\"edge\">\n<title>12&#45;&gt;14</title>\n<path fill=\"none\" stroke=\"#000000\" d=\"M1032.8439,-103.9815C1046.2994,-94.2394 1060.6131,-83.8759 1073.9867,-74.193\"/>\n<polygon fill=\"#000000\" stroke=\"#000000\" points=\"1076.1289,-76.9632 1082.1762,-68.2637 1072.0237,-71.2933 1076.1289,-76.9632\"/>\n</g>\n</g>\n</svg>\n"
          },
          "metadata": {
            "tags": []
          },
          "execution_count": 9
        }
      ]
    },
    {
      "cell_type": "markdown",
      "metadata": {
        "id": "WVpqxreqHYYP"
      },
      "source": [
        "Método 3: KNeighborsClassifier"
      ]
    },
    {
      "cell_type": "code",
      "metadata": {
        "id": "caCPpZ-fFq4o",
        "outputId": "09a53085-c62a-43cb-9f46-fc3f8c13ce91",
        "colab": {
          "base_uri": "https://localhost:8080/",
          "height": 87
        }
      },
      "source": [
        "from sklearn.neighbors import KNeighborsClassifier\n",
        "\n",
        "modeloK = KNeighborsClassifier(n_neighbors = 10)\n",
        "modeloK.fit(treino_x, treino_y)\n",
        "previsoesK = modeloK.predict(teste_x)\n",
        "\n",
        "acuraciaK = accuracy_score(teste_y, previsoesK)\n",
        "print('A acurácia do KNeighborsClassifier é de %.2f%%' % (acuraciaK * 100))\n",
        "\n",
        "precisionK = precision_score(teste_y, previsoesK, average='macro')\n",
        "print('A precisão do KNeighborsClassifier é de %.2f%%' % (precisionK * 100))\n",
        "\n",
        "recallK = recall_score(teste_y, previsoesK, average='macro')\n",
        "print('O recall do KNeighborsClassifier é de %.2f%%' % (recallK * 100))\n",
        "\n",
        "f1ScoreK = f1_score(teste_y, previsoesK, average='macro')\n",
        "print('O f1_score do KNeighborsClassifier é de %.2f%%' % (f1ScoreK * 100))"
      ],
      "execution_count": null,
      "outputs": [
        {
          "output_type": "stream",
          "text": [
            "A acurácia do KNeighborsClassifier é de 88.79%\n",
            "A precisão do KNeighborsClassifier é de 87.60%\n",
            "O recall do KNeighborsClassifier é de 82.84%\n",
            "O f1_score do KNeighborsClassifier é de 84.90%\n"
          ],
          "name": "stdout"
        }
      ]
    },
    {
      "cell_type": "markdown",
      "metadata": {
        "id": "DNlYGoyOay-K"
      },
      "source": [
        "\n",
        "\n",
        "*   Acuracia = (positivos + negativos) / (positivos + negativos + falso positivos + falso negativos)\n",
        "> habilidade de acertar uma previsão\n",
        "*   Precision_Score = positivos / (positivos + falso positivos) ->\n",
        "> habilidade de não classificar como positivo um sample negativo\n",
        "*   Recall = positivos / (positivos + falsos negativos)\n",
        "> habilidade de encontrar os samples positivos\n",
        "*   F1_score = 2 * (precision_score * recall) / (precision + recall)\n",
        "> media ponderada do precision_score e do recall\n"
      ]
    },
    {
      "cell_type": "code",
      "metadata": {
        "id": "32chCqv3gECu",
        "outputId": "4e903d14-42a1-40ee-f06c-e39cd946bdf9",
        "colab": {
          "base_uri": "https://localhost:8080/",
          "height": 171
        }
      },
      "source": [
        "comparacao_desempenho = pd.DataFrame({'GaussianNB': [acuraciaG, precisionG, recallG, f1ScoreG],\n",
        "                                      'DTC': [acuraciaDTC, precisionDTC, recallDTC, f1ScoreDTC],\n",
        "                                      'KNeighborsClassifier': [acuraciaK, precisionK, recallK, f1ScoreK]},\n",
        "                                     index=['Acuracia', 'Precision_Score', 'Recall', 'F1_score'])\n",
        "\n",
        "comparacao_desempenho['Melhor resultado'] = comparacao_desempenho.idxmax(axis=1)\n",
        "\n",
        "comparacao_desempenho\n"
      ],
      "execution_count": null,
      "outputs": [
        {
          "output_type": "execute_result",
          "data": {
            "text/html": [
              "<div>\n",
              "<style scoped>\n",
              "    .dataframe tbody tr th:only-of-type {\n",
              "        vertical-align: middle;\n",
              "    }\n",
              "\n",
              "    .dataframe tbody tr th {\n",
              "        vertical-align: top;\n",
              "    }\n",
              "\n",
              "    .dataframe thead th {\n",
              "        text-align: right;\n",
              "    }\n",
              "</style>\n",
              "<table border=\"1\" class=\"dataframe\">\n",
              "  <thead>\n",
              "    <tr style=\"text-align: right;\">\n",
              "      <th></th>\n",
              "      <th>GaussianNB</th>\n",
              "      <th>DTC</th>\n",
              "      <th>KNeighborsClassifier</th>\n",
              "      <th>Melhor resultado</th>\n",
              "    </tr>\n",
              "  </thead>\n",
              "  <tbody>\n",
              "    <tr>\n",
              "      <th>Acuracia</th>\n",
              "      <td>0.811209</td>\n",
              "      <td>0.831858</td>\n",
              "      <td>0.887906</td>\n",
              "      <td>KNeighborsClassifier</td>\n",
              "    </tr>\n",
              "    <tr>\n",
              "      <th>Precision_Score</th>\n",
              "      <td>0.671746</td>\n",
              "      <td>0.558188</td>\n",
              "      <td>0.875952</td>\n",
              "      <td>KNeighborsClassifier</td>\n",
              "    </tr>\n",
              "    <tr>\n",
              "      <th>Recall</th>\n",
              "      <td>0.639166</td>\n",
              "      <td>0.602762</td>\n",
              "      <td>0.828365</td>\n",
              "      <td>KNeighborsClassifier</td>\n",
              "    </tr>\n",
              "    <tr>\n",
              "      <th>F1_score</th>\n",
              "      <td>0.647873</td>\n",
              "      <td>0.575779</td>\n",
              "      <td>0.848966</td>\n",
              "      <td>KNeighborsClassifier</td>\n",
              "    </tr>\n",
              "  </tbody>\n",
              "</table>\n",
              "</div>"
            ],
            "text/plain": [
              "                 GaussianNB  ...      Melhor resultado\n",
              "Acuracia           0.811209  ...  KNeighborsClassifier\n",
              "Precision_Score    0.671746  ...  KNeighborsClassifier\n",
              "Recall             0.639166  ...  KNeighborsClassifier\n",
              "F1_score           0.647873  ...  KNeighborsClassifier\n",
              "\n",
              "[4 rows x 4 columns]"
            ]
          },
          "metadata": {
            "tags": []
          },
          "execution_count": 11
        }
      ]
    },
    {
      "cell_type": "code",
      "metadata": {
        "id": "ewsyvOw_IOOO",
        "outputId": "c1b1b288-439d-4405-b4be-9be717ccc896",
        "colab": {
          "base_uri": "https://localhost:8080/",
          "height": 294
        }
      },
      "source": [
        "import matplotlib.pyplot as plt\n",
        "from sklearn import model_selection\n",
        "\n",
        "\n",
        "modelos = []\n",
        "modelos.append(('GNB', modeloG))\n",
        "modelos.append(('DTC', modeloDTC))\n",
        "modelos.append(('KNC', modeloK))\n",
        "\n",
        "resultados = []\n",
        "nomes = []\n",
        "\n",
        "for nome, modelo in modelos:\n",
        "  kfold = model_selection.KFold(n_splits=10)\n",
        "  cv_resultados = model_selection.cross_val_score(modelo, treino_x, treino_y, cv=kfold, scoring = 'accuracy')\n",
        "  resultados.append(cv_resultados)\n",
        "  nomes.append(nome)\n",
        "\n",
        "fig = plt.figure()\n",
        "fig.suptitle('Comparação dos Algoritmos')\n",
        "ax = fig.add_subplot()\n",
        "plt.boxplot(resultados)\n",
        "ax.set_xticklabels(nomes)\n",
        "plt.show()"
      ],
      "execution_count": null,
      "outputs": [
        {
          "output_type": "display_data",
          "data": {
            "image/png": "[encoded data removed]",
            "text/plain": [
              "<Figure size 432x288 with 1 Axes>"
            ]
          },
          "metadata": {
            "tags": [],
            "needs_background": "light"
          }
        }
      ]
    }
  ]
}